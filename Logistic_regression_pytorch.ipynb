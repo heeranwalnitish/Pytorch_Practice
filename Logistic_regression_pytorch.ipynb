{
  "nbformat": 4,
  "nbformat_minor": 0,
  "metadata": {
    "colab": {
      "provenance": [],
      "authorship_tag": "ABX9TyM721TWIB3cK0uHliTtUeAH",
      "include_colab_link": true
    },
    "kernelspec": {
      "name": "python3",
      "display_name": "Python 3"
    },
    "language_info": {
      "name": "python"
    }
  },
  "cells": [
    {
      "cell_type": "markdown",
      "metadata": {
        "id": "view-in-github",
        "colab_type": "text"
      },
      "source": [
        "<a href=\"https://colab.research.google.com/github/heeranwalnitish/Pytorch_Practice/blob/main/Logistic_regression_pytorch.ipynb\" target=\"_parent\"><img src=\"https://colab.research.google.com/assets/colab-badge.svg\" alt=\"Open In Colab\"/></a>"
      ]
    },
    {
      "cell_type": "code",
      "execution_count": 2,
      "metadata": {
        "id": "pGeoalU42R31"
      },
      "outputs": [],
      "source": [
        "import torch\n",
        "import torch.nn as nn\n",
        "import torchvision\n",
        "import torchvision.transforms as transforms"
      ]
    },
    {
      "cell_type": "code",
      "source": [
        "# Hyper-parameters\n",
        "input_size = 28 * 28    # 784\n",
        "num_classes = 10\n",
        "num_epochs = 5\n",
        "batch_size  = 100\n",
        "learning_rate = 0.001"
      ],
      "metadata": {
        "id": "HzuEvZf32hnt"
      },
      "execution_count": 3,
      "outputs": []
    },
    {
      "cell_type": "code",
      "source": [
        "# MINIST dataset (images and labels)\n",
        "train_dataset = torchvision.datasets.MNIST(root = '../../data',\n",
        "                                           train = True,\n",
        "                                           transform = transforms.ToTensor(),\n",
        "                                           download = True)"
      ],
      "metadata": {
        "colab": {
          "base_uri": "https://localhost:8080/"
        },
        "id": "cd__hlTj3KCK",
        "outputId": "5257e14e-271a-4a38-e47c-e7ee6b1e46b5"
      },
      "execution_count": 4,
      "outputs": [
        {
          "output_type": "stream",
          "name": "stdout",
          "text": [
            "Downloading http://yann.lecun.com/exdb/mnist/train-images-idx3-ubyte.gz\n",
            "Downloading http://yann.lecun.com/exdb/mnist/train-images-idx3-ubyte.gz to ../../data/MNIST/raw/train-images-idx3-ubyte.gz\n"
          ]
        },
        {
          "output_type": "stream",
          "name": "stderr",
          "text": [
            "100%|██████████| 9912422/9912422 [00:00<00:00, 93014077.14it/s]\n"
          ]
        },
        {
          "output_type": "stream",
          "name": "stdout",
          "text": [
            "Extracting ../../data/MNIST/raw/train-images-idx3-ubyte.gz to ../../data/MNIST/raw\n",
            "\n",
            "Downloading http://yann.lecun.com/exdb/mnist/train-labels-idx1-ubyte.gz\n",
            "Downloading http://yann.lecun.com/exdb/mnist/train-labels-idx1-ubyte.gz to ../../data/MNIST/raw/train-labels-idx1-ubyte.gz\n"
          ]
        },
        {
          "output_type": "stream",
          "name": "stderr",
          "text": [
            "100%|██████████| 28881/28881 [00:00<00:00, 31794145.36it/s]\n"
          ]
        },
        {
          "output_type": "stream",
          "name": "stdout",
          "text": [
            "Extracting ../../data/MNIST/raw/train-labels-idx1-ubyte.gz to ../../data/MNIST/raw\n",
            "\n",
            "Downloading http://yann.lecun.com/exdb/mnist/t10k-images-idx3-ubyte.gz\n",
            "Downloading http://yann.lecun.com/exdb/mnist/t10k-images-idx3-ubyte.gz to ../../data/MNIST/raw/t10k-images-idx3-ubyte.gz\n"
          ]
        },
        {
          "output_type": "stream",
          "name": "stderr",
          "text": [
            "100%|██████████| 1648877/1648877 [00:00<00:00, 24649608.64it/s]\n"
          ]
        },
        {
          "output_type": "stream",
          "name": "stdout",
          "text": [
            "Extracting ../../data/MNIST/raw/t10k-images-idx3-ubyte.gz to ../../data/MNIST/raw\n",
            "\n",
            "Downloading http://yann.lecun.com/exdb/mnist/t10k-labels-idx1-ubyte.gz\n",
            "Downloading http://yann.lecun.com/exdb/mnist/t10k-labels-idx1-ubyte.gz to ../../data/MNIST/raw/t10k-labels-idx1-ubyte.gz\n"
          ]
        },
        {
          "output_type": "stream",
          "name": "stderr",
          "text": [
            "100%|██████████| 4542/4542 [00:00<00:00, 7324309.41it/s]\n"
          ]
        },
        {
          "output_type": "stream",
          "name": "stdout",
          "text": [
            "Extracting ../../data/MNIST/raw/t10k-labels-idx1-ubyte.gz to ../../data/MNIST/raw\n",
            "\n"
          ]
        }
      ]
    },
    {
      "cell_type": "code",
      "source": [
        "test_dataset =  torchvision.datasets.MNIST(root = \"../../data\",\n",
        "                                           train = False,\n",
        "                                           transform = transforms.ToTensor(),\n",
        "                                           )"
      ],
      "metadata": {
        "id": "rKh-NbtO3rGQ"
      },
      "execution_count": 5,
      "outputs": []
    },
    {
      "cell_type": "code",
      "source": [
        "# Data loader (input pipeline)\n",
        "train_loader = torch.utils.data.DataLoader(dataset = train_dataset,\n",
        "                                           batch_size = batch_size,\n",
        "                                           shuffle = True)\n",
        "test_loader = torch.utils.data.DataLoader(dataset = test_dataset,\n",
        "                                          batch_size = batch_size,\n",
        "                                          shuffle = False)"
      ],
      "metadata": {
        "id": "AIcRzKwF4OdG"
      },
      "execution_count": 7,
      "outputs": []
    },
    {
      "cell_type": "code",
      "source": [
        "# Logistic regression model\n",
        "model = nn.Linear(input_size, num_classes)"
      ],
      "metadata": {
        "id": "dC9ZcDl24_H-"
      },
      "execution_count": 15,
      "outputs": []
    },
    {
      "cell_type": "code",
      "source": [
        "# Loss and optimizers\n",
        "criterion = nn.CrossEntropyLoss()\n",
        "optimizer = torch.optim.SGD(model.parameters(), lr = learning_rate)"
      ],
      "metadata": {
        "id": "Pvp3jY7u5O3Q"
      },
      "execution_count": 16,
      "outputs": []
    },
    {
      "cell_type": "code",
      "source": [
        "# Train the model\n",
        "total_step = len(train_loader)\n",
        "for epoch in range(num_epochs):\n",
        "  for i , (images, labels) in enumerate(train_loader):\n",
        "    # Reshape images to (batch_size, input_size)\n",
        "    images = images.reshape(-1, input_size)\n",
        "\n",
        "\n",
        "    # Forward pass\n",
        "    outputs = model(images)\n",
        "    loss = criterion(outputs, labels)\n",
        "\n",
        "\n",
        "    # Backward and optimize\n",
        "    optimizer.zero_grad()\n",
        "    loss.backward()\n",
        "    optimizer.step()\n",
        "\n",
        "    if (i+1) % 100 == 0:\n",
        "      print(\"Epoch [{}/{}], Step [{}/{}], Loss: {:.4f}\" .format(epoch+1, num_epochs, i+1, total_step, loss.item()))\n"
      ],
      "metadata": {
        "colab": {
          "base_uri": "https://localhost:8080/"
        },
        "id": "UO7vPLIR6hgV",
        "outputId": "7ec59f8e-d57b-4069-ec74-9cb05847fdbe"
      },
      "execution_count": 17,
      "outputs": [
        {
          "output_type": "stream",
          "name": "stdout",
          "text": [
            "Epoch [1/5], Step [100/600], Loss: 2.2491\n",
            "Epoch [1/5], Step [200/600], Loss: 2.1522\n",
            "Epoch [1/5], Step [300/600], Loss: 2.0372\n",
            "Epoch [1/5], Step [400/600], Loss: 1.9511\n",
            "Epoch [1/5], Step [500/600], Loss: 1.8494\n",
            "Epoch [1/5], Step [600/600], Loss: 1.8513\n",
            "Epoch [2/5], Step [100/600], Loss: 1.7857\n",
            "Epoch [2/5], Step [200/600], Loss: 1.6870\n",
            "Epoch [2/5], Step [300/600], Loss: 1.5860\n",
            "Epoch [2/5], Step [400/600], Loss: 1.5774\n",
            "Epoch [2/5], Step [500/600], Loss: 1.4833\n",
            "Epoch [2/5], Step [600/600], Loss: 1.4830\n",
            "Epoch [3/5], Step [100/600], Loss: 1.4800\n",
            "Epoch [3/5], Step [200/600], Loss: 1.3829\n",
            "Epoch [3/5], Step [300/600], Loss: 1.3203\n",
            "Epoch [3/5], Step [400/600], Loss: 1.3093\n",
            "Epoch [3/5], Step [500/600], Loss: 1.2801\n",
            "Epoch [3/5], Step [600/600], Loss: 1.3034\n",
            "Epoch [4/5], Step [100/600], Loss: 1.3192\n",
            "Epoch [4/5], Step [200/600], Loss: 1.1895\n",
            "Epoch [4/5], Step [300/600], Loss: 1.1114\n",
            "Epoch [4/5], Step [400/600], Loss: 1.1398\n",
            "Epoch [4/5], Step [500/600], Loss: 1.0756\n",
            "Epoch [4/5], Step [600/600], Loss: 1.1710\n",
            "Epoch [5/5], Step [100/600], Loss: 1.1326\n",
            "Epoch [5/5], Step [200/600], Loss: 1.0732\n",
            "Epoch [5/5], Step [300/600], Loss: 1.0887\n",
            "Epoch [5/5], Step [400/600], Loss: 1.0302\n",
            "Epoch [5/5], Step [500/600], Loss: 1.0386\n",
            "Epoch [5/5], Step [600/600], Loss: 1.1308\n"
          ]
        }
      ]
    },
    {
      "cell_type": "code",
      "source": [
        "# Test the model\n",
        "with torch.no_grad():\n",
        "  correct = 0 \n",
        "  total = 0\n",
        "  for images, labels in test_loader:\n",
        "    images = images.reshape(-1, input_size)\n",
        "    outputs = model(images)\n",
        "    _, predicted = torch.max(outputs.data, 1)\n",
        "    total += labels.size(0)\n",
        "    correct += (predicted == labels).sum()\n",
        "  \n",
        "  print(f\"Accuracy of the model on the 10000 test images: {100 * correct / total}\")"
      ],
      "metadata": {
        "colab": {
          "base_uri": "https://localhost:8080/"
        },
        "id": "qjndNCSU9gJV",
        "outputId": "9b268d3c-9e2c-4a42-cfbb-a677379dde94"
      },
      "execution_count": 18,
      "outputs": [
        {
          "output_type": "stream",
          "name": "stdout",
          "text": [
            "Accuracy of the model on the 10000 test images: 82.30999755859375\n"
          ]
        }
      ]
    },
    {
      "cell_type": "code",
      "source": [
        "_.shape"
      ],
      "metadata": {
        "colab": {
          "base_uri": "https://localhost:8080/"
        },
        "id": "83oOYo4s_X64",
        "outputId": "c0cd9748-8a6b-4063-b539-786c50bec998"
      },
      "execution_count": 27,
      "outputs": [
        {
          "output_type": "execute_result",
          "data": {
            "text/plain": [
              "torch.Size([100])"
            ]
          },
          "metadata": {},
          "execution_count": 27
        }
      ]
    },
    {
      "cell_type": "code",
      "source": [
        "predicted.shape"
      ],
      "metadata": {
        "colab": {
          "base_uri": "https://localhost:8080/"
        },
        "id": "AB0ovvMHYzJr",
        "outputId": "cebe7793-2b60-4ae1-c8c0-ff556015ed41"
      },
      "execution_count": 24,
      "outputs": [
        {
          "output_type": "execute_result",
          "data": {
            "text/plain": [
              "torch.Size([100])"
            ]
          },
          "metadata": {},
          "execution_count": 24
        }
      ]
    },
    {
      "cell_type": "code",
      "source": [
        "total"
      ],
      "metadata": {
        "colab": {
          "base_uri": "https://localhost:8080/"
        },
        "id": "8F_eF4SeY6jR",
        "outputId": "565ebbdb-42cc-481b-c6e4-c2f7ffe9e705"
      },
      "execution_count": 21,
      "outputs": [
        {
          "output_type": "execute_result",
          "data": {
            "text/plain": [
              "10000"
            ]
          },
          "metadata": {},
          "execution_count": 21
        }
      ]
    },
    {
      "cell_type": "code",
      "source": [
        "correct"
      ],
      "metadata": {
        "colab": {
          "base_uri": "https://localhost:8080/"
        },
        "id": "GfafM0lYZDBK",
        "outputId": "3357a2ee-249e-4fca-9211-0eb3bfe2eb67"
      },
      "execution_count": 22,
      "outputs": [
        {
          "output_type": "execute_result",
          "data": {
            "text/plain": [
              "tensor(8231)"
            ]
          },
          "metadata": {},
          "execution_count": 22
        }
      ]
    },
    {
      "cell_type": "code",
      "source": [],
      "metadata": {
        "id": "5zlNd0CaZFi8"
      },
      "execution_count": null,
      "outputs": []
    }
  ]
}